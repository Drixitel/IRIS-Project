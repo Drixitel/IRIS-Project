{
 "cells": [
  {
   "cell_type": "code",
   "execution_count": 16,
   "metadata": {},
   "outputs": [
    {
     "name": "stderr",
     "output_type": "stream",
     "text": [
      "C:\\Users\\mpmun\\AppData\\Local\\Temp\\ipykernel_736\\4286021677.py:10: UserWarning: loadtxt: input contained no data: \"data_22/22120001.TXT\"\n",
      "  t,v = np.loadtxt(infile,skiprows=4,unpack=True,delimiter=',')\n"
     ]
    },
    {
     "ename": "ValueError",
     "evalue": "not enough values to unpack (expected 2, got 0)",
     "output_type": "error",
     "traceback": [
      "\u001b[1;31m---------------------------------------------------------------------------\u001b[0m",
      "\u001b[1;31mValueError\u001b[0m                                Traceback (most recent call last)",
      "\u001b[1;32mc:\\Users\\mpmun\\CodeUsersMpmun\\Iris-Adafruit-GPS\\pythonEnv\\tests\\time_tests.ipynb Cell 1\u001b[0m line \u001b[0;36m4\n\u001b[0;32m     <a href='vscode-notebook-cell:/c%3A/Users/mpmun/CodeUsersMpmun/Iris-Adafruit-GPS/pythonEnv/tests/time_tests.ipynb#W0sZmlsZQ%3D%3D?line=42'>43</a>\u001b[0m     axs[\u001b[39m1\u001b[39m]\u001b[39m.\u001b[39mset_xlabel(\u001b[39m'\u001b[39m\u001b[39mGap, milliseconds\u001b[39m\u001b[39m'\u001b[39m)\n\u001b[0;32m     <a href='vscode-notebook-cell:/c%3A/Users/mpmun/CodeUsersMpmun/Iris-Adafruit-GPS/pythonEnv/tests/time_tests.ipynb#W0sZmlsZQ%3D%3D?line=44'>45</a>\u001b[0m     \u001b[39m# plt.show()   \u001b[39;00m\n\u001b[0;32m     <a href='vscode-notebook-cell:/c%3A/Users/mpmun/CodeUsersMpmun/Iris-Adafruit-GPS/pythonEnv/tests/time_tests.ipynb#W0sZmlsZQ%3D%3D?line=45'>46</a>\u001b[0m \n\u001b[0;32m     <a href='vscode-notebook-cell:/c%3A/Users/mpmun/CodeUsersMpmun/Iris-Adafruit-GPS/pythonEnv/tests/time_tests.ipynb#W0sZmlsZQ%3D%3D?line=46'>47</a>\u001b[0m \u001b[39m#quicklook(\"data_21/21440001.TXT\") \u001b[39;00m\n\u001b[0;32m     <a href='vscode-notebook-cell:/c%3A/Users/mpmun/CodeUsersMpmun/Iris-Adafruit-GPS/pythonEnv/tests/time_tests.ipynb#W0sZmlsZQ%3D%3D?line=47'>48</a>\u001b[0m \u001b[39m#quicklook(\"data_21/21450001.TXT\") \u001b[39;00m\n\u001b[1;32m---> <a href='vscode-notebook-cell:/c%3A/Users/mpmun/CodeUsersMpmun/Iris-Adafruit-GPS/pythonEnv/tests/time_tests.ipynb#W0sZmlsZQ%3D%3D?line=48'>49</a>\u001b[0m quicklook(\u001b[39m\"\u001b[39;49m\u001b[39mdata_22/22120001.TXT\u001b[39;49m\u001b[39m\"\u001b[39;49m) \n\u001b[0;32m     <a href='vscode-notebook-cell:/c%3A/Users/mpmun/CodeUsersMpmun/Iris-Adafruit-GPS/pythonEnv/tests/time_tests.ipynb#W0sZmlsZQ%3D%3D?line=49'>50</a>\u001b[0m \u001b[39m#quicklook(\"data_22/22090001.TXT\") \u001b[39;00m\n\u001b[0;32m     <a href='vscode-notebook-cell:/c%3A/Users/mpmun/CodeUsersMpmun/Iris-Adafruit-GPS/pythonEnv/tests/time_tests.ipynb#W0sZmlsZQ%3D%3D?line=50'>51</a>\u001b[0m \u001b[39m# quicklook(\"data_21/210030001.TXT\") \u001b[39;00m\n\u001b[0;32m     <a href='vscode-notebook-cell:/c%3A/Users/mpmun/CodeUsersMpmun/Iris-Adafruit-GPS/pythonEnv/tests/time_tests.ipynb#W0sZmlsZQ%3D%3D?line=51'>52</a>\u001b[0m \u001b[39m# quicklook(\"data_21/210040001.TXT\") \u001b[39;00m\n\u001b[0;32m     <a href='vscode-notebook-cell:/c%3A/Users/mpmun/CodeUsersMpmun/Iris-Adafruit-GPS/pythonEnv/tests/time_tests.ipynb#W0sZmlsZQ%3D%3D?line=52'>53</a>\u001b[0m \u001b[39m# quicklook(\"data_21/210050001.TXT\") # issue: this is .5 seconds but it should be a 5s file \u001b[39;00m\n",
      "\u001b[1;32mc:\\Users\\mpmun\\CodeUsersMpmun\\Iris-Adafruit-GPS\\pythonEnv\\tests\\time_tests.ipynb Cell 1\u001b[0m line \u001b[0;36m1\n\u001b[0;32m      <a href='vscode-notebook-cell:/c%3A/Users/mpmun/CodeUsersMpmun/Iris-Adafruit-GPS/pythonEnv/tests/time_tests.ipynb#W0sZmlsZQ%3D%3D?line=6'>7</a>\u001b[0m \u001b[39mdef\u001b[39;00m \u001b[39mquicklook\u001b[39m(infile):\n\u001b[0;32m      <a href='vscode-notebook-cell:/c%3A/Users/mpmun/CodeUsersMpmun/Iris-Adafruit-GPS/pythonEnv/tests/time_tests.ipynb#W0sZmlsZQ%3D%3D?line=7'>8</a>\u001b[0m     \u001b[39m#read data from file which is the input argument\u001b[39;00m\n\u001b[1;32m---> <a href='vscode-notebook-cell:/c%3A/Users/mpmun/CodeUsersMpmun/Iris-Adafruit-GPS/pythonEnv/tests/time_tests.ipynb#W0sZmlsZQ%3D%3D?line=9'>10</a>\u001b[0m     t,v \u001b[39m=\u001b[39m np\u001b[39m.\u001b[39mloadtxt(infile,skiprows\u001b[39m=\u001b[39m\u001b[39m4\u001b[39m,unpack\u001b[39m=\u001b[39m\u001b[39mTrue\u001b[39;00m,delimiter\u001b[39m=\u001b[39m\u001b[39m'\u001b[39m\u001b[39m,\u001b[39m\u001b[39m'\u001b[39m)\n\u001b[0;32m     <a href='vscode-notebook-cell:/c%3A/Users/mpmun/CodeUsersMpmun/Iris-Adafruit-GPS/pythonEnv/tests/time_tests.ipynb#W0sZmlsZQ%3D%3D?line=10'>11</a>\u001b[0m     v \u001b[39m=\u001b[39m v\u001b[39m*\u001b[39m(\u001b[39m3.3\u001b[39m\u001b[39m/\u001b[39m\u001b[39m4096\u001b[39m)\u001b[39m/\u001b[39m\u001b[39m100\u001b[39m\n\u001b[0;32m     <a href='vscode-notebook-cell:/c%3A/Users/mpmun/CodeUsersMpmun/Iris-Adafruit-GPS/pythonEnv/tests/time_tests.ipynb#W0sZmlsZQ%3D%3D?line=11'>12</a>\u001b[0m     \u001b[39m#Make a list of the time differences (gaps) beween adjacent points:\u001b[39;00m\n",
      "\u001b[1;31mValueError\u001b[0m: not enough values to unpack (expected 2, got 0)"
     ]
    }
   ],
   "source": [
    "#import matplotlib\n",
    "#matplotlib.use('TKAgg',force=True)\n",
    "from matplotlib import pyplot as plt\n",
    "import numpy as np\n",
    "import pdb \n",
    "\n",
    "def quicklook(infile):\n",
    "    #read data from file which is the input argument\n",
    "    \n",
    "    t,v = np.loadtxt(infile,skiprows=4,unpack=True,delimiter=',')\n",
    "    v = v*(3.3/4096)/100\n",
    "    #Make a list of the time differences (gaps) beween adjacent points:\n",
    "    dt = t - np.roll(t,1)\n",
    "    dt = dt[1:]\n",
    "    print('Median gap: ',np.median(dt))\n",
    "    h,tax = np.histogram(dt,range=[0,max(dt)],bins=int(max(dt)/100.))\n",
    "\n",
    "    #print the times, durations,  and positions of the longest gaps:\n",
    "    w = np.where(dt > 50000.)\n",
    "    w=w[0]\n",
    "    print('Locations of long gaps: ',w)\n",
    "    print('Times of long gaps: ',t[w])\n",
    "    print('Durations of long gaps: ',dt[w])\n",
    "\n",
    "    #plot dataset\n",
    "    plt.figure(num=None,figsize=(25,25) )\n",
    "    fig, axs = plt.subplots(2)\n",
    "    fig.tight_layout()\n",
    "    fig.suptitle(infile)\n",
    "    fig.subplots_adjust(top=.9)\n",
    "\n",
    "    ts = t/10e6\n",
    "    axs[0].scatter(ts,v,s=4)\n",
    "    axs[0].plot(ts,v,alpha=0.5)\n",
    "    axs[0].set_xlabel('time, seconds')\n",
    "    axs[0].set_ylabel('Volts')\n",
    "    #axs[0].set_xlim([min(ts),min(ts)+40])\n",
    "\n",
    "    #plot histogram of gaps in milliseconds:\n",
    "    axs[1].plot(tax[1:]/1000.,h,alpha=0.5)\n",
    "    axs[1].scatter(tax[1:]/1000.,h,s=4)\n",
    "    axs[1].set_yscale('log')\n",
    "    axs[1].set_xlabel('Gap, milliseconds')\n",
    "\n",
    "    # plt.show()   \n",
    "\n",
    "\n",
    "quicklook(\"data_22/22140001.TXT\") "
   ]
  }
 ],
 "metadata": {
  "kernelspec": {
   "display_name": ".venv",
   "language": "python",
   "name": "python3"
  },
  "language_info": {
   "codemirror_mode": {
    "name": "ipython",
    "version": 3
   },
   "file_extension": ".py",
   "mimetype": "text/x-python",
   "name": "python",
   "nbconvert_exporter": "python",
   "pygments_lexer": "ipython3",
   "version": "3.10.4"
  },
  "orig_nbformat": 4
 },
 "nbformat": 4,
 "nbformat_minor": 2
}
