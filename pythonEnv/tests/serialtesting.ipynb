{
 "cells": [
  {
   "cell_type": "code",
   "execution_count": 4,
   "metadata": {},
   "outputs": [
    {
     "name": "stdout",
     "output_type": "stream",
     "text": [
      "/dev/ttyS1 - ttyS1\n",
      "ttyS1\n",
      "/dev/ttyS0 - ttyS0\n",
      "ttyS0\n"
     ]
    }
   ],
   "source": [
    "import numpy as np\n",
    "import serial.tools.list_ports\n",
    "\n",
    "# blank instance of our ports \n",
    "ports = serial.tools.list_ports.comports()\n",
    "# blank instance of serial obj \n",
    "serialInst = serial.Serial()\n",
    "\n",
    "# blank list \n",
    "portsList = []\n",
    "\n",
    "for onePort in ports:\n",
    "    portsList.append(str(onePort))\n",
    "    print(str(onePort))\n",
    "    print(onePort.name)\n",
    "# val = input(\"Select Port: COM\")\n",
    "\n",
    "# for x in range(0, len(portsList)):\n",
    "#     if portsList[x].startswith(\"COM\" + str(val)):\n",
    "#         portVar = \"COM\" + str(val)\n",
    "#         print(portVar)\n",
    "\n",
    "\n",
    "# serialInst.baudrate = 9600\n",
    "# serialInst.port = portVar\n",
    "# serialInst.open()\n",
    "\n",
    "\n",
    "# while True:\n",
    "#     command = input(\"Arduino Command:\")\n",
    "#     # we need to encore to utf-8 because arudio assumes it\n",
    "#     serialInst.write(command.encode(\"utf-8\"))\n",
    "\n",
    "#     if command == \"exit\":\n",
    "#         exit()\n"
   ]
  }
 ],
 "metadata": {
  "kernelspec": {
   "display_name": ".venv",
   "language": "python",
   "name": "python3"
  },
  "language_info": {
   "codemirror_mode": {
    "name": "ipython",
    "version": 3
   },
   "file_extension": ".py",
   "mimetype": "text/x-python",
   "name": "python",
   "nbconvert_exporter": "python",
   "pygments_lexer": "ipython3",
   "version": "3.8.10"
  },
  "orig_nbformat": 4,
  "vscode": {
   "interpreter": {
    "hash": "21a9b4d74c65cf1cd7182d2bd1aef59cb7510b96d6f63ead9fbe9affcfcf9960"
   }
  }
 },
 "nbformat": 4,
 "nbformat_minor": 2
}
