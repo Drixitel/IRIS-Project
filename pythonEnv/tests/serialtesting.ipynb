{
 "cells": [
  {
   "cell_type": "code",
   "execution_count": 2,
   "metadata": {},
   "outputs": [
    {
     "name": "stdout",
     "output_type": "stream",
     "text": [
      "COM4 - USB Serial Device (COM4)\n",
      "COM4\n"
     ]
    }
   ],
   "source": [
    "import numpy as np\n",
    "import serial.tools.list_ports\n",
    "\n",
    "ports = serial.tools.list_ports.comports()\n",
    "serialInst = serial.Serial()\n",
    "\n",
    "portsList = []\n",
    "\n",
    "for onePort in ports:\n",
    "    portsList.append(str(onePort))\n",
    "    print(str(onePort))\n",
    "\n",
    "val = input(\"Select Port: COM\")\n",
    "\n",
    "for x in range(0, len(portsList)):\n",
    "    if portsList[x].startswith(\"COM\" + str(val)):\n",
    "        portVar = \"COM\" + str(val)\n",
    "        # print(portsList[x])\n",
    "        print(portVar)\n",
    "\n",
    "\n",
    "serialInst.baudrate = 9600\n",
    "serialInst.port = portVar\n",
    "serialInst.open()\n",
    "\n",
    "\n",
    "# while True:\n",
    "#     if serialInst.in_waiting:\n",
    "#         packet = serialInst.readline()\n",
    "#         # encoded in unicode from arudino\n",
    "#         # (if sending integer/binary/ect it needs a different method)\n",
    "#         # works for strings\n",
    "#         print(packet.decode(\"utf-8\"))\n",
    "\n",
    "    # command = input(\"Arduino Command:\")\n",
    "    # # we need to encore to utf-8 because arudio assumes it\n",
    "    # serialInst.write(command.encode(\"utf-8\"))\n",
    "\n",
    "    # if command == \"exit\":\n",
    "    #     exit()\n"
   ]
  }
 ],
 "metadata": {
  "kernelspec": {
   "display_name": ".venv",
   "language": "python",
   "name": "python3"
  },
  "language_info": {
   "codemirror_mode": {
    "name": "ipython",
    "version": 3
   },
   "file_extension": ".py",
   "mimetype": "text/x-python",
   "name": "python",
   "nbconvert_exporter": "python",
   "pygments_lexer": "ipython3",
   "version": "3.9.0"
  },
  "orig_nbformat": 4,
  "vscode": {
   "interpreter": {
    "hash": "6cd3cef1485f73228be7839f5adb24a89bdcf9f5599e78469c7525ba8bb34d31"
   }
  }
 },
 "nbformat": 4,
 "nbformat_minor": 2
}
